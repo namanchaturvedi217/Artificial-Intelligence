{
  "nbformat": 4,
  "nbformat_minor": 0,
  "metadata": {
    "colab": {
      "provenance": [],
      "authorship_tag": "ABX9TyN6mFZTHdSIxyiXm1qX7ED7",
      "include_colab_link": true
    },
    "kernelspec": {
      "name": "python3",
      "display_name": "Python 3"
    },
    "language_info": {
      "name": "python"
    }
  },
  "cells": [
    {
      "cell_type": "markdown",
      "metadata": {
        "id": "view-in-github",
        "colab_type": "text"
      },
      "source": [
        "<a href=\"https://colab.research.google.com/github/namanchaturvedi217/Artificial-Intelligence/blob/main/Untitled4.ipynb\" target=\"_parent\"><img src=\"https://colab.research.google.com/assets/colab-badge.svg\" alt=\"Open In Colab\"/></a>"
      ]
    },
    {
      "cell_type": "code",
      "execution_count": 7,
      "metadata": {
        "id": "zCZWi2rYHGz0"
      },
      "outputs": [],
      "source": [
        "import nltk.classify.util\n",
        "from nltk.classify import NaiveBayesClassifier\n",
        "from nltk.corpus import names\n",
        " \n",
        "def word_character(words):\n",
        "    return dict([(word, True) for word in words])\n",
        " \n",
        "positive_word = [ 'awesome', 'interesting','fabulous','lovely','outstanding', 'fantastic', 'terrific', 'good', 'nice', 'great', ':)','first-rate','insightful','clever','charming','comical','charismatic','enjoyable','uproarious','original','tender','hilarious','absorbing','sensitive','riveting','intriguing','powerful','fascinating','pleasant','surprising','dazzling','thought provoking','imaginative','legendary','unpretentious' ]\n",
        "negative_word = ['dislike', 'horrible','gross','bad','worse', 'terrible','useless', 'hate', 'meaningless','waste',':(','second-rate','violent','moronic','third-rate','flawed','juvenile','boring','distasteful','ordinary','disgusting','senseless','static','brutal','confused','disappointing','bloody','silly','tired','predictable','stupid','uninteresting','weak','incredibly tiresome','trite','uneven','cliché ridden','outdated','dreadful','bland' ]\n",
        "neutral_word = [ 'movie','think','game','program','project','the','sound','was','is','actors','did','know','words','not' ]\n",
        " \n",
        "positive_character = [(word_character(pos), 'pos') for pos in positive_word]\n",
        "negative_character = [(word_character(neg), 'neg') for neg in negative_word]\n",
        "neutral_character = [(word_character(neu), 'neu') for neu in neutral_word]\n",
        " \n",
        "train_set = negative_character + positive_character + neutral_character\n",
        " \n",
        "classifier = NaiveBayesClassifier.train(train_set)"
      ]
    },
    {
      "cell_type": "code",
      "source": [
        "neg = 0\n",
        "pos = 0\n",
        "sentence = input()\n",
        "sentence = sentence.lower()\n",
        "words = sentence.split(' ')\n",
        "for word in words:\n",
        "    classResult = classifier.classify( word_character(word))\n",
        "    if classResult == 'neg':\n",
        "        neg = neg + 1\n",
        "    if classResult == 'pos':\n",
        "        pos = pos + 1\n",
        " \n",
        "print('Positive: ' + str(float(pos)/len(words)))\n",
        "print('Negative: ' + str(float(neg)/len(words)))"
      ],
      "metadata": {
        "colab": {
          "base_uri": "https://localhost:8080/"
        },
        "id": "ylQawvLcHP1Y",
        "outputId": "957405a7-24a9-4747-a1ed-bf3fd767e6d8"
      },
      "execution_count": 8,
      "outputs": [
        {
          "output_type": "stream",
          "name": "stdout",
          "text": [
            "very motivational movie\n",
            "Positive: 1.0\n",
            "Negative: 0.0\n"
          ]
        }
      ]
    }
  ]
}
